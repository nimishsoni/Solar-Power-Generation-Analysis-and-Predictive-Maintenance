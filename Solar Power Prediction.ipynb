{
 "cells": [
  {
   "cell_type": "code",
   "execution_count": 1,
   "metadata": {},
   "outputs": [],
   "source": [
    "import pandas as pd\n",
    "import numpy as np\n",
    "import matplotlib.pyplot as plt\n",
    "import seaborn as sns\n",
    "sns.set(color_codes=True)\n",
    "%matplotlib inline"
   ]
  },
  {
   "cell_type": "code",
   "execution_count": 2,
   "metadata": {},
   "outputs": [],
   "source": [
    "data_folder_location = 'C:/Users/E0514808/Documents/Learning/Kaggle Competitions/Solar Power Generation/Data/'\n",
    "\n",
    "#Import Plant generation data and weather senson data\n",
    "plant1_generation_data = pd.read_csv(data_folder_location + 'Plant_1_Generation_Data.csv',index_col=False)\n",
    "plant2_generation_data = pd.read_csv(data_folder_location + 'Plant_2_Generation_Data.csv',index_col=False)\n",
    "\n",
    "# Import weather sensor data\n",
    "plant1_weather_sensor_data = pd.read_csv(data_folder_location + 'Plant_1_Weather_Sensor_Data.csv',index_col=False)\n",
    "plant2_weather_sensor_data = pd.read_csv(data_folder_location + 'Plant_2_Weather_Sensor_Data.csv',index_col=False)"
   ]
  },
  {
   "cell_type": "code",
   "execution_count": 3,
   "metadata": {},
   "outputs": [],
   "source": [
    "#Retaining relevant data\n",
    "plant2_generation_Time = plant2_generation_data.groupby(['DATE_TIME'],as_index=False).sum()\n",
    "plant2_generation_Time = plant2_generation_Time[['DATE_TIME','DC_POWER','AC_POWER','DAILY_YIELD']]"
   ]
  },
  {
   "cell_type": "code",
   "execution_count": 8,
   "metadata": {},
   "outputs": [],
   "source": [
    "#Retaining relevant data\n",
    "plant2_weather_sensor_data1 = plant2_weather_sensor_data.drop(['PLANT_ID', 'SOURCE_KEY'], axis=1)\n",
    "\n",
    "# Merge plant 1 solar generation data and weather data\n",
    "merged_data_plant2 = pd.merge(plant2_generation_Time, plant2_weather_sensor_data1, how='inner', on='DATE_TIME')"
   ]
  },
  {
   "cell_type": "markdown",
   "metadata": {},
   "source": [
    "## AC Power Output prediction of Plant"
   ]
  },
  {
   "cell_type": "code",
   "execution_count": 45,
   "metadata": {},
   "outputs": [],
   "source": [
    "from sklearn import datasets, linear_model\n",
    "from sklearn.model_selection import train_test_split\n",
    "from sklearn.metrics import r2_score, mean_squared_error, mean_absolute_error, mean_absolute_percentage_error\n",
    "from sklearn.utils import check_array\n",
    "import xgboost as xgb\n",
    "from xgboost import plot_importance\n",
    "plt.style.use('fivethirtyeight')"
   ]
  },
  {
   "cell_type": "code",
   "execution_count": 10,
   "metadata": {
    "scrolled": true
   },
   "outputs": [],
   "source": [
    "target = merged_data_plant2['AC_POWER']\n",
    "features =merged_data_plant2[['IRRADIATION','AMBIENT_TEMPERATURE']]"
   ]
  },
  {
   "cell_type": "code",
   "execution_count": 12,
   "metadata": {},
   "outputs": [],
   "source": [
    "# Split the data in to train and test sets\n",
    "X_train, X_test, y_train, y_test = train_test_split(features, target, test_size=0.3, random_state = 5)"
   ]
  },
  {
   "cell_type": "code",
   "execution_count": 22,
   "metadata": {},
   "outputs": [],
   "source": [
    "lm = linear_model.LinearRegression()\n",
    "model_lm = lm.fit(X_train, y_train)\n",
    "pred_y_test_lm = lm.predict(X_test)"
   ]
  },
  {
   "cell_type": "code",
   "execution_count": 54,
   "metadata": {},
   "outputs": [
    {
     "name": "stdout",
     "output_type": "stream",
     "text": [
      "R2 using Linear Regression: 0.8331420997408432   MSE using Linear Regression: 6165288.928054745 \n",
      " MAE using Linear Regression: 1577.5537872942903   MASE using Linear Regression: 0.24768773390073895\n"
     ]
    }
   ],
   "source": [
    "# Calculate MSE, MAE and MAPE for Predicted output to quantify model error\n",
    "R2_lm = r2_score(y_test, pred_y_test_lm)\n",
    "mse_lm = mean_squared_error(y_test, pred_y_test_lm)\n",
    "mae_lm = mean_absolute_error(y_test, pred_y_test_lm)\n",
    "mase_lm = mean_absolute_scaled_error(y_test, pred_y_test_lm,y_train)\n",
    "\n",
    "print('R2 using Linear Regression:', R2_lm, '  '   'MSE using Linear Regression:', mse_lm, '\\n '   'MAE using Linear Regression:', mae_lm,'  '   'MASE using Linear Regression:', mase_lm )"
   ]
  },
  {
   "cell_type": "code",
   "execution_count": 24,
   "metadata": {
    "scrolled": true
   },
   "outputs": [
    {
     "data": {
      "text/plain": [
       "XGBRegressor(base_score=0.5, booster='gbtree', colsample_bylevel=1,\n",
       "             colsample_bynode=1, colsample_bytree=1, gamma=0, gpu_id=-1,\n",
       "             importance_type='gain', interaction_constraints='',\n",
       "             learning_rate=0.300000012, max_delta_step=0, max_depth=6,\n",
       "             min_child_weight=1, missing=nan, monotone_constraints='()',\n",
       "             n_estimators=50, n_jobs=8, num_parallel_tree=1, random_state=0,\n",
       "             reg_alpha=0, reg_lambda=1, scale_pos_weight=1, subsample=1,\n",
       "             tree_method='exact', validate_parameters=1, verbosity=None)"
      ]
     },
     "execution_count": 24,
     "metadata": {},
     "output_type": "execute_result"
    }
   ],
   "source": [
    "#Fit XGB model on the Solar Generation Dataset\n",
    "model_xgb = xgb.XGBRegressor(n_estimators=50)\n",
    "model_xgb.fit(X_train, y_train,\n",
    "                             eval_set=[(X_train, y_train),\n",
    "                                       (X_test, y_test)],\n",
    "                             early_stopping_rounds=50,\n",
    "                             verbose=False)"
   ]
  },
  {
   "cell_type": "code",
   "execution_count": 25,
   "metadata": {},
   "outputs": [
    {
     "data": {
      "image/png": "[encoded data removed]",
      "text/plain": [
       "<Figure size 432x288 with 1 Axes>"
      ]
     },
     "metadata": {},
     "output_type": "display_data"
    }
   ],
   "source": [
    "#Plot features by Significance for forecasting\n",
    "_ = plot_importance(model_xgb, height=0.5)"
   ]
  },
  {
   "cell_type": "code",
   "execution_count": 27,
   "metadata": {},
   "outputs": [],
   "source": [
    "pred_y_test_xgb = model_xgb.predict(X_test)"
   ]
  },
  {
   "cell_type": "code",
   "execution_count": 55,
   "metadata": {},
   "outputs": [
    {
     "name": "stdout",
     "output_type": "stream",
     "text": [
      "R2 using XGB: 0.9020792863295167   MSE using XGB: 3618105.53100688 \n",
      " MAE using XGB: 820.6042959590977   MASE using XGB: 0.12884100696428652\n"
     ]
    }
   ],
   "source": [
    "# Calculate MSE, MAE and MAPE for Predicted output to quantify model error\n",
    "R2_xgb = r2_score(y_test, pred_y_test_xgb)\n",
    "mse_xgb = mean_squared_error(y_test, pred_y_test_xgb)\n",
    "mae_xgb = mean_absolute_error(y_test, pred_y_test_xgb)\n",
    "mase_xgb = mean_absolute_scaled_error(y_test, pred_y_test_xgb,y_train)\n",
    "\n",
    "print('R2 using XGB:', R2_xgb, '  '   'MSE using XGB:', mse_xgb, '\\n '   'MAE using XGB:', mae_xgb,'  '   'MASE using XGB:', mase_xgb )"
   ]
  }
 ],
 "metadata": {
  "kernelspec": {
   "display_name": "Python 3",
   "language": "python",
   "name": "python3"
  },
  "language_info": {
   "codemirror_mode": {
    "name": "ipython",
    "version": 3
   },
   "file_extension": ".py",
   "mimetype": "text/x-python",
   "name": "python",
   "nbconvert_exporter": "python",
   "pygments_lexer": "ipython3",
   "version": "3.8.3"
  }
 },
 "nbformat": 4,
 "nbformat_minor": 4
}
